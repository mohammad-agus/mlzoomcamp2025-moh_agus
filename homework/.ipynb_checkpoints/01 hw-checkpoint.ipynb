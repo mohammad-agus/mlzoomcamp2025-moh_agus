{
 "cells": [
  {
   "cell_type": "code",
   "execution_count": 3,
   "id": "946a785c-19ec-4178-9a47-9cac2648909b",
   "metadata": {},
   "outputs": [],
   "source": [
    "import pandas as pd"
   ]
  },
  {
   "cell_type": "markdown",
   "id": "7f235292-7d22-4f35-b69f-6fc9df6abe1b",
   "metadata": {},
   "source": [
    "### Q1. Pandas Version"
   ]
  },
  {
   "cell_type": "code",
   "execution_count": 4,
   "id": "2c10f5a4-e047-4667-a2cd-78fcfd0cb186",
   "metadata": {},
   "outputs": [
    {
     "data": {
      "text/plain": [
       "'2.3.2'"
      ]
     },
     "execution_count": 4,
     "metadata": {},
     "output_type": "execute_result"
    }
   ],
   "source": [
    "pd.__version__"
   ]
  }
 ],
 "metadata": {
  "kernelspec": {
   "display_name": "Python 3 (ipykernel)",
   "language": "python",
   "name": "python3"
  },
  "language_info": {
   "codemirror_mode": {
    "name": "ipython",
    "version": 3
   },
   "file_extension": ".py",
   "mimetype": "text/x-python",
   "name": "python",
   "nbconvert_exporter": "python",
   "pygments_lexer": "ipython3",
   "version": "3.13.7"
  }
 },
 "nbformat": 4,
 "nbformat_minor": 5
}
