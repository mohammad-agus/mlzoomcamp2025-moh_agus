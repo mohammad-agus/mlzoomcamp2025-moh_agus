{
 "cells": [
  {
   "cell_type": "code",
   "execution_count": 42,
   "id": "946a785c-19ec-4178-9a47-9cac2648909b",
   "metadata": {},
   "outputs": [],
   "source": [
    "import pandas as pd\n",
    "import numpy as np"
   ]
  },
  {
   "cell_type": "markdown",
   "id": "7f235292-7d22-4f35-b69f-6fc9df6abe1b",
   "metadata": {},
   "source": [
    "### Q1. Pandas Version\n",
    "What's the version of Pandas that you installed?"
   ]
  },
  {
   "cell_type": "markdown",
   "id": "9e941199-27ff-4c2c-ba74-3c526887e05d",
   "metadata": {},
   "source": [
    "**Answer:**"
   ]
  },
  {
   "cell_type": "code",
   "execution_count": 2,
   "id": "2c10f5a4-e047-4667-a2cd-78fcfd0cb186",
   "metadata": {},
   "outputs": [
    {
     "data": {
      "text/plain": [
       "'2.3.2'"
      ]
     },
     "execution_count": 2,
     "metadata": {},
     "output_type": "execute_result"
    }
   ],
   "source": [
    "pd.__version__"
   ]
  },
  {
   "cell_type": "code",
   "execution_count": 3,
   "id": "5c795c51-7e29-4bcd-b6e5-f6584e8fc8d2",
   "metadata": {},
   "outputs": [],
   "source": [
    "#!wget https://raw.githubusercontent.com/alexeygrigorev/datasets/master/car_fuel_efficiency.csv"
   ]
  },
  {
   "cell_type": "markdown",
   "id": "7a4909b2-3eaf-4173-b904-d62dc98458c4",
   "metadata": {},
   "source": [
    "### Q2. Records count\n",
    "How many records are in the dataset?"
   ]
  },
  {
   "cell_type": "code",
   "execution_count": 4,
   "id": "37a93830-4226-4589-aedb-e719fa2463e5",
   "metadata": {},
   "outputs": [
    {
     "name": "stdout",
     "output_type": "stream",
     "text": [
      "<class 'pandas.core.frame.DataFrame'>\n",
      "RangeIndex: 9704 entries, 0 to 9703\n",
      "Data columns (total 11 columns):\n",
      " #   Column               Non-Null Count  Dtype  \n",
      "---  ------               --------------  -----  \n",
      " 0   engine_displacement  9704 non-null   int64  \n",
      " 1   num_cylinders        9222 non-null   float64\n",
      " 2   horsepower           8996 non-null   float64\n",
      " 3   vehicle_weight       9704 non-null   float64\n",
      " 4   acceleration         8774 non-null   float64\n",
      " 5   model_year           9704 non-null   int64  \n",
      " 6   origin               9704 non-null   object \n",
      " 7   fuel_type            9704 non-null   object \n",
      " 8   drivetrain           9704 non-null   object \n",
      " 9   num_doors            9202 non-null   float64\n",
      " 10  fuel_efficiency_mpg  9704 non-null   float64\n",
      "dtypes: float64(6), int64(2), object(3)\n",
      "memory usage: 834.1+ KB\n"
     ]
    }
   ],
   "source": [
    "df = pd.read_csv('car_fuel_efficiency.csv')\n",
    "df.info()"
   ]
  },
  {
   "cell_type": "markdown",
   "id": "71da316e-52f0-46c5-9cae-0ccf69c39aa5",
   "metadata": {},
   "source": [
    "**Answer:**"
   ]
  },
  {
   "cell_type": "code",
   "execution_count": 5,
   "id": "3a6e72fb-3c12-4631-b74e-1cd6fadf01ba",
   "metadata": {},
   "outputs": [],
   "source": [
    "# 9704 records"
   ]
  },
  {
   "cell_type": "markdown",
   "id": "0a75e9cb-4f7d-4546-9281-41f6667a4a66",
   "metadata": {},
   "source": [
    "### Q3. Fuel types\n",
    "How many fuel types are presented in the dataset?"
   ]
  },
  {
   "cell_type": "code",
   "execution_count": 6,
   "id": "405cfc10-96d1-40bb-9b50-a2a9326accf7",
   "metadata": {},
   "outputs": [
    {
     "data": {
      "text/plain": [
       "(array(['Gasoline', 'Diesel'], dtype=object), 2)"
      ]
     },
     "execution_count": 6,
     "metadata": {},
     "output_type": "execute_result"
    }
   ],
   "source": [
    "df.fuel_type.unique(), df.fuel_type.nunique()"
   ]
  },
  {
   "cell_type": "markdown",
   "id": "5f466c6d-65e2-4155-aefd-68e4214b34bd",
   "metadata": {},
   "source": [
    "**Answer:**"
   ]
  },
  {
   "cell_type": "code",
   "execution_count": 7,
   "id": "5f67d90e-6c3f-4599-a522-985103ee7552",
   "metadata": {},
   "outputs": [],
   "source": [
    "# 2 types of fuel"
   ]
  },
  {
   "cell_type": "markdown",
   "id": "8cd8abf7-37f3-4d32-8ca3-3373e991aef5",
   "metadata": {},
   "source": [
    "### Q4. Missing values\n",
    "How many columns in the dataset have missing values?"
   ]
  },
  {
   "cell_type": "code",
   "execution_count": 8,
   "id": "88fb916f-33b2-48b2-b5ef-3d0a0f34737d",
   "metadata": {},
   "outputs": [
    {
     "data": {
      "text/plain": [
       "engine_displacement      0\n",
       "num_cylinders          482\n",
       "horsepower             708\n",
       "vehicle_weight           0\n",
       "acceleration           930\n",
       "model_year               0\n",
       "origin                   0\n",
       "fuel_type                0\n",
       "drivetrain               0\n",
       "num_doors              502\n",
       "fuel_efficiency_mpg      0\n",
       "dtype: int64"
      ]
     },
     "execution_count": 8,
     "metadata": {},
     "output_type": "execute_result"
    }
   ],
   "source": [
    "df.isnull().sum()"
   ]
  },
  {
   "cell_type": "markdown",
   "id": "b3be747e-ee85-4b4b-be62-edf67c064a53",
   "metadata": {},
   "source": [
    "**Answer:**"
   ]
  },
  {
   "cell_type": "code",
   "execution_count": 9,
   "id": "da08f91d-2eda-4226-929b-1b29a9abbe78",
   "metadata": {},
   "outputs": [],
   "source": [
    "# 4 columns"
   ]
  },
  {
   "cell_type": "markdown",
   "id": "6122cf2b-e749-42e4-8e9a-fc4a6b493598",
   "metadata": {},
   "source": [
    "### Q5. Max fuel efficiency\n",
    "What's the maximum fuel efficiency of cars from Asia?"
   ]
  },
  {
   "cell_type": "markdown",
   "id": "071f2d4e-bc64-4406-b133-96f4bd04e748",
   "metadata": {},
   "source": [
    "**Answer:**"
   ]
  },
  {
   "cell_type": "code",
   "execution_count": 10,
   "id": "55f796b2-acdc-4bd4-97a8-314461c06696",
   "metadata": {},
   "outputs": [
    {
     "data": {
      "text/plain": [
       "np.float64(23.76)"
      ]
     },
     "execution_count": 10,
     "metadata": {},
     "output_type": "execute_result"
    }
   ],
   "source": [
    "round(df.query('origin == \"Asia\"').fuel_efficiency_mpg.max(), 2)"
   ]
  },
  {
   "cell_type": "markdown",
   "id": "12b97fd2-a94f-4b30-98c7-d494cd761d67",
   "metadata": {},
   "source": [
    "### Q6. Median value of horsepower\n",
    "1. Find the median value of horsepower column in the dataset."
   ]
  },
  {
   "cell_type": "markdown",
   "id": "3982268c-764c-4b26-bec6-6b1225693ada",
   "metadata": {},
   "source": [
    "**Answer:**"
   ]
  },
  {
   "cell_type": "code",
   "execution_count": 33,
   "id": "7725a481-ad10-4467-9dd1-2a779c20eb1f",
   "metadata": {},
   "outputs": [
    {
     "data": {
      "text/plain": [
       "np.float64(149.0)"
      ]
     },
     "execution_count": 33,
     "metadata": {},
     "output_type": "execute_result"
    }
   ],
   "source": [
    "df.horsepower.median()"
   ]
  },
  {
   "cell_type": "markdown",
   "id": "1dcb23ba-129c-4fe5-8541-cfbb522705b6",
   "metadata": {},
   "source": [
    "2. Next, calculate the most frequent value of the same horsepower column."
   ]
  },
  {
   "cell_type": "markdown",
   "id": "42e1a8b8-aa21-4575-9206-ed46855da743",
   "metadata": {},
   "source": [
    "**Answer: increased**"
   ]
  },
  {
   "cell_type": "markdown",
   "id": "764f4960-13dd-4381-b6b4-5d88d050955c",
   "metadata": {},
   "source": [
    "3. Use fillna method to fill the missing values in horsepower column with the most frequent value from the previous step.\n",
    "4. Now, calculate the median value of horsepower once again"
   ]
  },
  {
   "cell_type": "code",
   "execution_count": 22,
   "id": "2df83d37-a45a-4980-a31d-1798d74f6357",
   "metadata": {},
   "outputs": [
    {
     "data": {
      "text/plain": [
       "0    152.0\n",
       "Name: horsepower, dtype: float64"
      ]
     },
     "execution_count": 22,
     "metadata": {},
     "output_type": "execute_result"
    }
   ],
   "source": [
    "df.horsepower.mode()"
   ]
  },
  {
   "cell_type": "code",
   "execution_count": 31,
   "id": "dc2072bb-2df4-4391-83c8-a38504b28ed6",
   "metadata": {},
   "outputs": [
    {
     "data": {
      "text/plain": [
       "np.float64(152.0)"
      ]
     },
     "execution_count": 31,
     "metadata": {},
     "output_type": "execute_result"
    }
   ],
   "source": [
    "df[\"horsepower_filled\"] = df.horsepower.fillna(152)\n",
    "df[\"horsepower_filled\"].median()"
   ]
  },
  {
   "cell_type": "markdown",
   "id": "e5ca197d-82e6-4a82-8c16-9589c1780d75",
   "metadata": {},
   "source": [
    "### Q7 Sum of weights"
   ]
  },
  {
   "cell_type": "code",
   "execution_count": 45,
   "id": "41d8a257-daf2-45e4-bd49-cff79623c69f",
   "metadata": {},
   "outputs": [],
   "source": [
    "X = np.array(df[df.origin == \"Asia\"][[\"vehicle_weight\", \"model_year\"]].head(7))"
   ]
  },
  {
   "cell_type": "code",
   "execution_count": 52,
   "id": "cebb3cf1-6bb1-4707-8965-583fa13950b1",
   "metadata": {},
   "outputs": [],
   "source": [
    "XTX = X.T @ X"
   ]
  },
  {
   "cell_type": "code",
   "execution_count": 53,
   "id": "ba88ecb8-2280-41d6-ac50-63bfaa0fa5eb",
   "metadata": {},
   "outputs": [],
   "source": [
    "y = [1100, 1300, 800, 900, 1000, 1100, 1200]"
   ]
  },
  {
   "cell_type": "code",
   "execution_count": 54,
   "id": "e9621c0c-9fa3-437f-868c-9d1131b73440",
   "metadata": {},
   "outputs": [],
   "source": [
    "w = (np.linalg.inv(XTX) @ X.T) @ y"
   ]
  },
  {
   "cell_type": "code",
   "execution_count": 55,
   "id": "63a4ee57-26d2-483e-9e6b-20db9f61e878",
   "metadata": {},
   "outputs": [
    {
     "data": {
      "text/plain": [
       "np.float64(0.5187709081074016)"
      ]
     },
     "execution_count": 55,
     "metadata": {},
     "output_type": "execute_result"
    }
   ],
   "source": [
    "np.sum(w)"
   ]
  }
 ],
 "metadata": {
  "kernelspec": {
   "display_name": "Python 3 (ipykernel)",
   "language": "python",
   "name": "python3"
  },
  "language_info": {
   "codemirror_mode": {
    "name": "ipython",
    "version": 3
   },
   "file_extension": ".py",
   "mimetype": "text/x-python",
   "name": "python",
   "nbconvert_exporter": "python",
   "pygments_lexer": "ipython3",
   "version": "3.13.7"
  }
 },
 "nbformat": 4,
 "nbformat_minor": 5
}
